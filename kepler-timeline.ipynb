{
 "cells": [
  {
   "cell_type": "code",
   "execution_count": 1,
   "metadata": {},
   "outputs": [
    {
     "name": "stdout",
     "output_type": "stream",
     "text": [
      "WARNING conda.base.context:use_only_tar_bz2(632): Conda is constrained to only using the old .tar.bz2 file format because you have conda-build installed, and it is <3.18.3.  Update or remove conda-build to get smaller downloads and faster extractions.\n",
      "Collecting package metadata (repodata.json): done\n",
      "Solving environment: done\n",
      "\n",
      "# All requested packages already installed.\n",
      "\n",
      "Requirement already satisfied: keplergl in /Users/dev/anaconda3/lib/python3.7/site-packages (0.1.0a7)\n",
      "Requirement already satisfied: traittypes>=0.2.1 in /Users/dev/anaconda3/lib/python3.7/site-packages (from keplergl) (0.2.1)\n",
      "Requirement already satisfied: ipywidgets<8,>=7.0.0 in /Users/dev/anaconda3/lib/python3.7/site-packages (from keplergl) (7.4.2)\n",
      "Requirement already satisfied: Shapely>=1.6.4.post2 in /Users/dev/anaconda3/lib/python3.7/site-packages (from keplergl) (1.6.4.post2)\n",
      "Requirement already satisfied: pandas>=0.23.0 in /Users/dev/anaconda3/lib/python3.7/site-packages (from keplergl) (0.24.1)\n",
      "Requirement already satisfied: geopandas>=0.5.0 in /Users/dev/anaconda3/lib/python3.7/site-packages (from keplergl) (0.5.0)\n",
      "Requirement already satisfied: traitlets>=4.2.2 in /Users/dev/anaconda3/lib/python3.7/site-packages (from traittypes>=0.2.1->keplergl) (4.3.2)\n",
      "Requirement already satisfied: ipython>=4.0.0; python_version >= \"3.3\" in /Users/dev/anaconda3/lib/python3.7/site-packages (from ipywidgets<8,>=7.0.0->keplergl) (7.2.0)\n",
      "Requirement already satisfied: widgetsnbextension~=3.4.0 in /Users/dev/anaconda3/lib/python3.7/site-packages (from ipywidgets<8,>=7.0.0->keplergl) (3.4.2)\n",
      "Requirement already satisfied: ipykernel>=4.5.1 in /Users/dev/anaconda3/lib/python3.7/site-packages (from ipywidgets<8,>=7.0.0->keplergl) (5.1.0)\n",
      "Requirement already satisfied: nbformat>=4.2.0 in /Users/dev/anaconda3/lib/python3.7/site-packages (from ipywidgets<8,>=7.0.0->keplergl) (4.4.0)\n",
      "Requirement already satisfied: numpy>=1.12.0 in /Users/dev/anaconda3/lib/python3.7/site-packages (from pandas>=0.23.0->keplergl) (1.15.4)\n",
      "Requirement already satisfied: pytz>=2011k in /Users/dev/anaconda3/lib/python3.7/site-packages (from pandas>=0.23.0->keplergl) (2018.9)\n",
      "Requirement already satisfied: python-dateutil>=2.5.0 in /Users/dev/anaconda3/lib/python3.7/site-packages (from pandas>=0.23.0->keplergl) (2.7.5)\n",
      "Requirement already satisfied: fiona in /Users/dev/anaconda3/lib/python3.7/site-packages (from geopandas>=0.5.0->keplergl) (1.7.12)\n",
      "Requirement already satisfied: pyproj in /Users/dev/anaconda3/lib/python3.7/site-packages (from geopandas>=0.5.0->keplergl) (1.9.5.1)\n",
      "Requirement already satisfied: six in /Users/dev/.local/lib/python3.7/site-packages (from traitlets>=4.2.2->traittypes>=0.2.1->keplergl) (1.11.0)\n",
      "Requirement already satisfied: ipython-genutils in /Users/dev/anaconda3/lib/python3.7/site-packages (from traitlets>=4.2.2->traittypes>=0.2.1->keplergl) (0.2.0)\n",
      "Requirement already satisfied: decorator in /Users/dev/anaconda3/lib/python3.7/site-packages (from traitlets>=4.2.2->traittypes>=0.2.1->keplergl) (4.3.2)\n",
      "Requirement already satisfied: prompt-toolkit<2.1.0,>=2.0.0 in /Users/dev/anaconda3/lib/python3.7/site-packages (from ipython>=4.0.0; python_version >= \"3.3\"->ipywidgets<8,>=7.0.0->keplergl) (2.0.8)\n",
      "Requirement already satisfied: pexpect; sys_platform != \"win32\" in /Users/dev/anaconda3/lib/python3.7/site-packages (from ipython>=4.0.0; python_version >= \"3.3\"->ipywidgets<8,>=7.0.0->keplergl) (4.6.0)\n",
      "Requirement already satisfied: jedi>=0.10 in /Users/dev/anaconda3/lib/python3.7/site-packages (from ipython>=4.0.0; python_version >= \"3.3\"->ipywidgets<8,>=7.0.0->keplergl) (0.13.2)\n",
      "Requirement already satisfied: setuptools>=18.5 in /Users/dev/anaconda3/lib/python3.7/site-packages (from ipython>=4.0.0; python_version >= \"3.3\"->ipywidgets<8,>=7.0.0->keplergl) (40.7.3)\n",
      "Requirement already satisfied: backcall in /Users/dev/anaconda3/lib/python3.7/site-packages (from ipython>=4.0.0; python_version >= \"3.3\"->ipywidgets<8,>=7.0.0->keplergl) (0.1.0)\n",
      "Requirement already satisfied: pickleshare in /Users/dev/anaconda3/lib/python3.7/site-packages (from ipython>=4.0.0; python_version >= \"3.3\"->ipywidgets<8,>=7.0.0->keplergl) (0.7.5)\n",
      "Requirement already satisfied: pygments in /Users/dev/anaconda3/lib/python3.7/site-packages (from ipython>=4.0.0; python_version >= \"3.3\"->ipywidgets<8,>=7.0.0->keplergl) (2.3.1)\n",
      "Requirement already satisfied: appnope; sys_platform == \"darwin\" in /Users/dev/anaconda3/lib/python3.7/site-packages (from ipython>=4.0.0; python_version >= \"3.3\"->ipywidgets<8,>=7.0.0->keplergl) (0.1.0)\n",
      "Requirement already satisfied: notebook>=4.4.1 in /Users/dev/anaconda3/lib/python3.7/site-packages (from widgetsnbextension~=3.4.0->ipywidgets<8,>=7.0.0->keplergl) (5.7.4)\n",
      "Requirement already satisfied: jupyter-client in /Users/dev/anaconda3/lib/python3.7/site-packages (from ipykernel>=4.5.1->ipywidgets<8,>=7.0.0->keplergl) (5.2.4)\n",
      "Requirement already satisfied: tornado>=4.2 in /Users/dev/anaconda3/lib/python3.7/site-packages (from ipykernel>=4.5.1->ipywidgets<8,>=7.0.0->keplergl) (5.1.1)\n",
      "Requirement already satisfied: jsonschema!=2.5.0,>=2.4 in /Users/dev/anaconda3/lib/python3.7/site-packages (from nbformat>=4.2.0->ipywidgets<8,>=7.0.0->keplergl) (2.6.0)\n",
      "Requirement already satisfied: jupyter-core in /Users/dev/anaconda3/lib/python3.7/site-packages (from nbformat>=4.2.0->ipywidgets<8,>=7.0.0->keplergl) (4.4.0)\n",
      "Requirement already satisfied: cligj>=0.4 in /Users/dev/anaconda3/lib/python3.7/site-packages (from fiona->geopandas>=0.5.0->keplergl) (0.5.0)\n",
      "Requirement already satisfied: click-plugins in /Users/dev/anaconda3/lib/python3.7/site-packages (from fiona->geopandas>=0.5.0->keplergl) (1.1.1)\n",
      "Requirement already satisfied: munch in /Users/dev/anaconda3/lib/python3.7/site-packages (from fiona->geopandas>=0.5.0->keplergl) (2.3.2)\n",
      "Requirement already satisfied: wcwidth in /Users/dev/anaconda3/lib/python3.7/site-packages (from prompt-toolkit<2.1.0,>=2.0.0->ipython>=4.0.0; python_version >= \"3.3\"->ipywidgets<8,>=7.0.0->keplergl) (0.1.7)\n",
      "Requirement already satisfied: ptyprocess>=0.5 in /Users/dev/anaconda3/lib/python3.7/site-packages (from pexpect; sys_platform != \"win32\"->ipython>=4.0.0; python_version >= \"3.3\"->ipywidgets<8,>=7.0.0->keplergl) (0.6.0)\n",
      "Requirement already satisfied: parso>=0.3.0 in /Users/dev/anaconda3/lib/python3.7/site-packages (from jedi>=0.10->ipython>=4.0.0; python_version >= \"3.3\"->ipywidgets<8,>=7.0.0->keplergl) (0.3.2)\n",
      "Requirement already satisfied: terminado>=0.8.1 in /Users/dev/anaconda3/lib/python3.7/site-packages (from notebook>=4.4.1->widgetsnbextension~=3.4.0->ipywidgets<8,>=7.0.0->keplergl) (0.8.1)\n",
      "Requirement already satisfied: jinja2 in /Users/dev/anaconda3/lib/python3.7/site-packages (from notebook>=4.4.1->widgetsnbextension~=3.4.0->ipywidgets<8,>=7.0.0->keplergl) (2.10)\n",
      "Requirement already satisfied: nbconvert in /Users/dev/anaconda3/lib/python3.7/site-packages (from notebook>=4.4.1->widgetsnbextension~=3.4.0->ipywidgets<8,>=7.0.0->keplergl) (5.3.1)\n",
      "Requirement already satisfied: prometheus-client in /Users/dev/anaconda3/lib/python3.7/site-packages (from notebook>=4.4.1->widgetsnbextension~=3.4.0->ipywidgets<8,>=7.0.0->keplergl) (0.5.0)\n",
      "Requirement already satisfied: pyzmq>=17 in /Users/dev/anaconda3/lib/python3.7/site-packages (from notebook>=4.4.1->widgetsnbextension~=3.4.0->ipywidgets<8,>=7.0.0->keplergl) (17.1.2)\n",
      "Requirement already satisfied: Send2Trash in /Users/dev/anaconda3/lib/python3.7/site-packages (from notebook>=4.4.1->widgetsnbextension~=3.4.0->ipywidgets<8,>=7.0.0->keplergl) (1.5.0)\n",
      "Requirement already satisfied: click<8,>=4.0 in /Users/dev/anaconda3/lib/python3.7/site-packages (from cligj>=0.4->fiona->geopandas>=0.5.0->keplergl) (7.0)\n",
      "Requirement already satisfied: MarkupSafe>=0.23 in /Users/dev/anaconda3/lib/python3.7/site-packages (from jinja2->notebook>=4.4.1->widgetsnbextension~=3.4.0->ipywidgets<8,>=7.0.0->keplergl) (1.1.0)\n",
      "Requirement already satisfied: testpath in /Users/dev/anaconda3/lib/python3.7/site-packages (from nbconvert->notebook>=4.4.1->widgetsnbextension~=3.4.0->ipywidgets<8,>=7.0.0->keplergl) (0.4.2)\n",
      "Requirement already satisfied: mistune>=0.7.4 in /Users/dev/anaconda3/lib/python3.7/site-packages (from nbconvert->notebook>=4.4.1->widgetsnbextension~=3.4.0->ipywidgets<8,>=7.0.0->keplergl) (0.8.4)\n",
      "Requirement already satisfied: entrypoints>=0.2.2 in /Users/dev/anaconda3/lib/python3.7/site-packages (from nbconvert->notebook>=4.4.1->widgetsnbextension~=3.4.0->ipywidgets<8,>=7.0.0->keplergl) (0.3)\n",
      "Requirement already satisfied: bleach in /Users/dev/anaconda3/lib/python3.7/site-packages (from nbconvert->notebook>=4.4.1->widgetsnbextension~=3.4.0->ipywidgets<8,>=7.0.0->keplergl) (3.1.0)\n"
     ]
    },
    {
     "name": "stdout",
     "output_type": "stream",
     "text": [
      "Requirement already satisfied: pandocfilters>=1.4.1 in /Users/dev/anaconda3/lib/python3.7/site-packages (from nbconvert->notebook>=4.4.1->widgetsnbextension~=3.4.0->ipywidgets<8,>=7.0.0->keplergl) (1.4.2)\r\n",
      "Requirement already satisfied: webencodings in /Users/dev/anaconda3/lib/python3.7/site-packages (from bleach->nbconvert->notebook>=4.4.1->widgetsnbextension~=3.4.0->ipywidgets<8,>=7.0.0->keplergl) (0.5.1)\r\n"
     ]
    },
    {
     "data": {
      "text/plain": [
       "''"
      ]
     },
     "execution_count": 1,
     "metadata": {},
     "output_type": "execute_result"
    }
   ],
   "source": [
    "# install dependencies: geopandas and kepler.gl\n",
    "import sys\n",
    "!conda install --yes --prefix {sys.prefix} geopandas\n",
    "!{sys.executable} -m pip install keplergl\n",
    "\"\""
   ]
  },
  {
   "cell_type": "code",
   "execution_count": 2,
   "metadata": {},
   "outputs": [],
   "source": [
    "import geopandas as gpd\n",
    "from keplergl import KeplerGl\n",
    "import pandas as pd"
   ]
  },
  {
   "cell_type": "markdown",
   "metadata": {},
   "source": [
    "# what you still need to do manually:\n",
    "This script can be used to display your google maps timeline data in a kepler.gl interactive map.\n",
    "**However, you still need to download your timeline from google manually.**\n",
    "To do that, just head over to http://takeout.google.com, uncheck everything except the *Location History* (which should be in json format per default) and click download archive at the bottom.\n",
    "Then extract the zip file and move the *Location History.json* file to the project directory."
   ]
  },
  {
   "cell_type": "code",
   "execution_count": 3,
   "metadata": {},
   "outputs": [
    {
     "name": "stdout",
     "output_type": "stream",
     "text": [
      "Warning: Failed to set locale category LC_NUMERIC to en_AT.\n",
      "Warning: Failed to set locale category LC_TIME to en_AT.\n",
      "Warning: Failed to set locale category LC_COLLATE to en_AT.\n",
      "Warning: Failed to set locale category LC_MONETARY to en_AT.\n",
      "Warning: Failed to set locale category LC_MESSAGES to en_AT.\n",
      "--2019-07-07 15:55:24--  https://raw.githubusercontent.com/nubenum/maps-timeline/master/convertmapstimeline.py\n",
      "Resolving raw.githubusercontent.com (raw.githubusercontent.com)... 151.101.112.133\n",
      "Connecting to raw.githubusercontent.com (raw.githubusercontent.com)|151.101.112.133|:443... connected.\n",
      "HTTP request sent, awaiting response... 200 OK\n",
      "Length: 7374 (7.2K) [text/plain]\n",
      "Saving to: ‘convertmapstimeline.py.1’\n",
      "\n",
      "convertmapstimeline 100%[===================>]   7.20K  --.-KB/s    in 0s      \n",
      "\n",
      "2019-07-07 15:55:24 (26.8 MB/s) - ‘convertmapstimeline.py.1’ saved [7374/7374]\n",
      "\n"
     ]
    }
   ],
   "source": [
    "# Download convertmapstimeline.py script to convert maps timeline to geojson file\n",
    "!wget https://raw.githubusercontent.com/nubenum/maps-timeline/master/convertmapstimeline.py\n",
    "!{sys.executable} convertmapstimeline.py --geojson Location\\ History.json locationHistory.json"
   ]
  },
  {
   "cell_type": "code",
   "execution_count": 4,
   "metadata": {},
   "outputs": [
    {
     "data": {
      "text/html": [
       "<div>\n",
       "<style scoped>\n",
       "    .dataframe tbody tr th:only-of-type {\n",
       "        vertical-align: middle;\n",
       "    }\n",
       "\n",
       "    .dataframe tbody tr th {\n",
       "        vertical-align: top;\n",
       "    }\n",
       "\n",
       "    .dataframe thead th {\n",
       "        text-align: right;\n",
       "    }\n",
       "</style>\n",
       "<table border=\"1\" class=\"dataframe\">\n",
       "  <thead>\n",
       "    <tr style=\"text-align: right;\">\n",
       "      <th></th>\n",
       "      <th>geometry</th>\n",
       "    </tr>\n",
       "  </thead>\n",
       "  <tbody>\n",
       "    <tr>\n",
       "      <th>0</th>\n",
       "      <td>LINESTRING (13.6674999 48.0039763, 13.6609231 ...</td>\n",
       "    </tr>\n",
       "    <tr>\n",
       "      <th>1</th>\n",
       "      <td>LINESTRING (13.7225715 48.0162288, 13.7123034 ...</td>\n",
       "    </tr>\n",
       "    <tr>\n",
       "      <th>2</th>\n",
       "      <td>LINESTRING (13.7427447 48.0340214, 13.7427447 ...</td>\n",
       "    </tr>\n",
       "    <tr>\n",
       "      <th>3</th>\n",
       "      <td>LINESTRING (13.7664133 48.0504174, 13.760747 4...</td>\n",
       "    </tr>\n",
       "    <tr>\n",
       "      <th>4</th>\n",
       "      <td>LINESTRING (13.7693721 48.0524162, 13.7664133 ...</td>\n",
       "    </tr>\n",
       "  </tbody>\n",
       "</table>\n",
       "</div>"
      ],
      "text/plain": [
       "                                            geometry\n",
       "0  LINESTRING (13.6674999 48.0039763, 13.6609231 ...\n",
       "1  LINESTRING (13.7225715 48.0162288, 13.7123034 ...\n",
       "2  LINESTRING (13.7427447 48.0340214, 13.7427447 ...\n",
       "3  LINESTRING (13.7664133 48.0504174, 13.760747 4...\n",
       "4  LINESTRING (13.7693721 48.0524162, 13.7664133 ..."
      ]
     },
     "execution_count": 4,
     "metadata": {},
     "output_type": "execute_result"
    }
   ],
   "source": [
    "# load the geojson file and give a quick insight of what is in there\n",
    "df = gpd.read_file('locationHistory.json')\n",
    "df.head()"
   ]
  },
  {
   "cell_type": "markdown",
   "metadata": {},
   "source": [
    "# modifying the data:\n",
    "We now imported the data into a geopandas dataframe, but now let's see what every line really does look like:"
   ]
  },
  {
   "cell_type": "code",
   "execution_count": 5,
   "metadata": {},
   "outputs": [
    {
     "name": "stdout",
     "output_type": "stream",
     "text": [
      "13470\n",
      "<class 'shapely.geometry.linestring.LineString'>\n"
     ]
    }
   ],
   "source": [
    "# number of records: \n",
    "print(len(df))\n",
    "# select the first row\n",
    "row = df.iloc[0]\n",
    "line = row[0]\n",
    "print(type(line))"
   ]
  },
  {
   "cell_type": "markdown",
   "metadata": {},
   "source": [
    "so we have a total of ... lines, \n",
    "each of them contains a lineString which consists of many points. This also now raises the question how many indivudial points we saved.\n",
    "More detailed, we are interested in the pairs of two locations (which we can pass to kepler to draw arcs)"
   ]
  },
  {
   "cell_type": "code",
   "execution_count": 6,
   "metadata": {
    "scrolled": true
   },
   "outputs": [
    {
     "name": "stdout",
     "output_type": "stream",
     "text": [
      "\n",
      "number of total coordinates in data:\n",
      "237675\n"
     ]
    }
   ],
   "source": [
    "df['coords'] = df['geometry'].apply(lambda x: x.coords)\n",
    "\n",
    "print(\"\\nnumber of total coordinates in data:\")\n",
    "print(df['coords'].apply(lambda x: len(x)).sum())"
   ]
  },
  {
   "cell_type": "markdown",
   "metadata": {},
   "source": [
    "# create coordinate pairs\n",
    "To be able to draw arcs or lines in kepler.gl we want to convert the data into simple pairs of coordinates. Therefore we split every single LineString from the dataFrame into multiple pairs of coordinates.\n",
    "\n",
    "Next up we split the coordinate pairs again into individual lat and long coordinate for arc start and end points."
   ]
  },
  {
   "cell_type": "code",
   "execution_count": 7,
   "metadata": {
    "scrolled": true
   },
   "outputs": [
    {
     "data": {
      "text/html": [
       "<div>\n",
       "<style scoped>\n",
       "    .dataframe tbody tr th:only-of-type {\n",
       "        vertical-align: middle;\n",
       "    }\n",
       "\n",
       "    .dataframe tbody tr th {\n",
       "        vertical-align: top;\n",
       "    }\n",
       "\n",
       "    .dataframe thead th {\n",
       "        text-align: right;\n",
       "    }\n",
       "</style>\n",
       "<table border=\"1\" class=\"dataframe\">\n",
       "  <thead>\n",
       "    <tr style=\"text-align: right;\">\n",
       "      <th></th>\n",
       "      <th>0</th>\n",
       "      <th>1</th>\n",
       "      <th>fromLat</th>\n",
       "      <th>fromLong</th>\n",
       "      <th>toLat</th>\n",
       "      <th>toLong</th>\n",
       "    </tr>\n",
       "  </thead>\n",
       "  <tbody>\n",
       "    <tr>\n",
       "      <th>0</th>\n",
       "      <td>(13.6674999, 48.0039763)</td>\n",
       "      <td>(13.6609231, 48.003433)</td>\n",
       "      <td>13.667500</td>\n",
       "      <td>48.003976</td>\n",
       "      <td>13.660923</td>\n",
       "      <td>48.003433</td>\n",
       "    </tr>\n",
       "    <tr>\n",
       "      <th>1</th>\n",
       "      <td>(13.7225715, 48.0162288)</td>\n",
       "      <td>(13.7123034, 48.0062724)</td>\n",
       "      <td>13.722572</td>\n",
       "      <td>48.016229</td>\n",
       "      <td>13.712303</td>\n",
       "      <td>48.006272</td>\n",
       "    </tr>\n",
       "    <tr>\n",
       "      <th>2</th>\n",
       "      <td>(13.7123034, 48.0062724)</td>\n",
       "      <td>(13.6674999, 48.0039763)</td>\n",
       "      <td>13.712303</td>\n",
       "      <td>48.006272</td>\n",
       "      <td>13.667500</td>\n",
       "      <td>48.003976</td>\n",
       "    </tr>\n",
       "    <tr>\n",
       "      <th>3</th>\n",
       "      <td>(13.7427447, 48.0340214)</td>\n",
       "      <td>(13.7427447, 48.0340214)</td>\n",
       "      <td>13.742745</td>\n",
       "      <td>48.034021</td>\n",
       "      <td>13.742745</td>\n",
       "      <td>48.034021</td>\n",
       "    </tr>\n",
       "    <tr>\n",
       "      <th>4</th>\n",
       "      <td>(13.7427447, 48.0340214)</td>\n",
       "      <td>(13.7225715, 48.0162288)</td>\n",
       "      <td>13.742745</td>\n",
       "      <td>48.034021</td>\n",
       "      <td>13.722572</td>\n",
       "      <td>48.016229</td>\n",
       "    </tr>\n",
       "  </tbody>\n",
       "</table>\n",
       "</div>"
      ],
      "text/plain": [
       "                          0                         1    fromLat   fromLong  \\\n",
       "0  (13.6674999, 48.0039763)   (13.6609231, 48.003433)  13.667500  48.003976   \n",
       "1  (13.7225715, 48.0162288)  (13.7123034, 48.0062724)  13.722572  48.016229   \n",
       "2  (13.7123034, 48.0062724)  (13.6674999, 48.0039763)  13.712303  48.006272   \n",
       "3  (13.7427447, 48.0340214)  (13.7427447, 48.0340214)  13.742745  48.034021   \n",
       "4  (13.7427447, 48.0340214)  (13.7225715, 48.0162288)  13.742745  48.034021   \n",
       "\n",
       "       toLat     toLong  \n",
       "0  13.660923  48.003433  \n",
       "1  13.712303  48.006272  \n",
       "2  13.667500  48.003976  \n",
       "3  13.742745  48.034021  \n",
       "4  13.722572  48.016229  "
      ]
     },
     "execution_count": 7,
     "metadata": {},
     "output_type": "execute_result"
    }
   ],
   "source": [
    "def pairs(lst):\n",
    "    for i in range(1, len(lst)):\n",
    "        yield lst[i-1], lst[i]\n",
    "        \n",
    "def flatmap(self, func):\n",
    "    rows = []\n",
    "    for idx, row in self.iterrows():\n",
    "        multrows = func(row)\n",
    "        rows.extend(multrows)\n",
    "    return pd.DataFrame.from_records(rows)\n",
    "\n",
    "pd.DataFrame.flatmap = flatmap\n",
    "\n",
    "# split lineStrings into coordinate pairs and create new DataFrame for them\n",
    "pairs = pd.DataFrame(df.flatmap(lambda x: pairs(x['coords'])))\n",
    "\n",
    "# extract individual coordinate floats from coordinate pairs\n",
    "pairs['fromLat'] = pairs[0].apply(lambda c: c[0])\n",
    "pairs['fromLong'] = pairs[0].apply(lambda c: c[1])\n",
    "pairs['toLat'] = pairs[1].apply(lambda c: c[0])\n",
    "pairs['toLong'] = pairs[1].apply(lambda c: c[1])\n",
    "\n",
    "pairs.head()"
   ]
  },
  {
   "cell_type": "markdown",
   "metadata": {},
   "source": [
    "# HexBin map of starting points\n",
    "The first map is a hexbin map of all the starting points of the trips. They are binned in 30 kilometer bins and shown on a three-dimensional map."
   ]
  },
  {
   "cell_type": "code",
   "execution_count": 8,
   "metadata": {
    "scrolled": true
   },
   "outputs": [
    {
     "name": "stdout",
     "output_type": "stream",
     "text": [
      "User Guide: https://github.com/keplergl/kepler.gl/blob/master/docs/keplergl-jupyter/user-guide.md\n"
     ]
    },
    {
     "data": {
      "application/vnd.jupyter.widget-view+json": {
       "model_id": "7b13a7e24b5a4a23b09819a5e997f374",
       "version_major": 2,
       "version_minor": 0
      },
      "text/plain": [
       "KeplerGl(config={'version': 'v1', 'config': {'visState': {'filters': [], 'layers': [{'id': 'v65eirr', 'type': …"
      ]
     },
     "metadata": {},
     "output_type": "display_data"
    }
   ],
   "source": [
    "map1 = KeplerGl(height=700, data = {'data1': pairs.to_csv()}, config={'version': 'v1',\n",
    " 'config': {'visState': {'filters': [],\n",
    "   'layers': [{'id': 'v65eirr',\n",
    "     'type': 'hexagon',\n",
    "     'config': {'dataId': 'data1',\n",
    "      'label': 'Trip Starting Points',\n",
    "      'color': [246, 209, 138],\n",
    "      'columns': {'lat': 'fromLong', 'lng': 'fromLat'},\n",
    "      'isVisible': True,\n",
    "      'visConfig': {'opacity': 0.8,\n",
    "       'worldUnitSize': 30,\n",
    "       'resolution': 8,\n",
    "       'colorRange': {'name': 'ColorBrewer YlGn-5',\n",
    "        'type': 'sequential',\n",
    "        'category': 'ColorBrewer',\n",
    "        'colors': ['#006837', '#31a354', '#78c679', '#c2e699', '#ffffcc'],\n",
    "        'reversed': True},\n",
    "       'coverage': 1,\n",
    "       'sizeRange': [0, 500],\n",
    "       'percentile': [0, 100],\n",
    "       'elevationPercentile': [0, 100],\n",
    "       'elevationScale': 10,\n",
    "       'colorAggregation': 'count',\n",
    "       'sizeAggregation': 'count',\n",
    "       'enable3d': True},\n",
    "      'textLabel': [{'field': None,\n",
    "        'color': [255, 255, 255],\n",
    "        'size': 18,\n",
    "        'offset': [0, 0],\n",
    "        'anchor': 'start',\n",
    "        'alignment': 'center'}]},\n",
    "     'visualChannels': {'colorField': None,\n",
    "      'colorScale': 'quantile',\n",
    "      'sizeField': None,\n",
    "      'sizeScale': 'linear'}}],\n",
    "   'interactionConfig': {'tooltip': {'fieldsToShow': {'data1': ['column_0',\n",
    "       'fromLong',\n",
    "       'fromLat',\n",
    "       'toLong',\n",
    "       'toLat'],\n",
    "      'data2': ['column_0', 'fromLong', 'fromLat', 'fromLong', 'toLat']},\n",
    "     'enabled': True},\n",
    "    'brush': {'size': 0.5, 'enabled': False}},\n",
    "   'layerBlending': 'normal',\n",
    "   'splitMaps': []},\n",
    "  'mapState': {'bearing': -2.1319796954314754,\n",
    "   'dragRotate': True,\n",
    "   'latitude': 47.710321487255285,\n",
    "   'longitude': 14.111189743396244,\n",
    "   'pitch': 49.49392839240254,\n",
    "   'zoom': 5.629385866035164,\n",
    "   'isSplit': False},\n",
    "  'mapStyle': {'styleType': 'light',\n",
    "   'topLayerGroups': {},\n",
    "   'visibleLayerGroups': {'label': True,\n",
    "    'road': True,\n",
    "    'border': False,\n",
    "    'building': True,\n",
    "    'water': True,\n",
    "    'land': True,\n",
    "    '3d building': False},\n",
    "   'mapStyles': {}}}})\n",
    "map1"
   ]
  },
  {
   "cell_type": "markdown",
   "metadata": {},
   "source": [
    "# Travel Arc Map\n",
    "For every single trip between to points an arc is drawn on a three-dimensional map."
   ]
  },
  {
   "cell_type": "code",
   "execution_count": 9,
   "metadata": {
    "scrolled": true
   },
   "outputs": [
    {
     "name": "stdout",
     "output_type": "stream",
     "text": [
      "User Guide: https://github.com/keplergl/kepler.gl/blob/master/docs/keplergl-jupyter/user-guide.md\n"
     ]
    },
    {
     "data": {
      "application/vnd.jupyter.widget-view+json": {
       "model_id": "20fe627c4e5642dea410495ca8822e67",
       "version_major": 2,
       "version_minor": 0
      },
      "text/plain": [
       "KeplerGl(config={'version': 'v1', 'config': {'visState': {'filters': [], 'layers': [{'id': 'faswyd', 'type': '…"
      ]
     },
     "metadata": {},
     "output_type": "display_data"
    }
   ],
   "source": [
    "map2 = KeplerGl(height=700, data = {'data1': pairs.to_csv()}, config={'version': 'v1',\n",
    " 'config': {'visState': {'filters': [],\n",
    "   'layers': [{'id': 'faswyd',\n",
    "     'type': 'arc',\n",
    "     'config': {'dataId': 'data1',\n",
    "      'label': 'data1',\n",
    "      'color': [190, 48, 9],\n",
    "      'columns': {'lat0': 'fromLong',\n",
    "       'lng0': 'fromLat',\n",
    "       'lat1': 'toLong',\n",
    "       'lng1': 'toLat'},\n",
    "      'isVisible': True,\n",
    "      'visConfig': {'opacity': 0.8,\n",
    "       'thickness': 1,\n",
    "       'colorRange': {'name': 'Global Warming',\n",
    "        'type': 'sequential',\n",
    "        'category': 'Uber',\n",
    "        'colors': ['#5A1846',\n",
    "         '#900C3F',\n",
    "         '#C70039',\n",
    "         '#E3611C',\n",
    "         '#F1920E',\n",
    "         '#FFC300']},\n",
    "       'sizeRange': [0, 10],\n",
    "       'targetColor': [254, 179, 26]},\n",
    "      'textLabel': [{'field': None,\n",
    "        'color': [255, 255, 255],\n",
    "        'size': 18,\n",
    "        'offset': [0, 0],\n",
    "        'anchor': 'start',\n",
    "        'alignment': 'center'}]},\n",
    "     'visualChannels': {'colorField': None,\n",
    "      'colorScale': 'quantile',\n",
    "      'sizeField': None,\n",
    "      'sizeScale': 'linear'}},\n",
    "    {'id': '0vf1x26',\n",
    "     'type': 'geojson',\n",
    "     'config': {'dataId': 'data1',\n",
    "      'label': 'data1',\n",
    "      'color': [255, 203, 153],\n",
    "      'columns': {'geojson': '1'},\n",
    "      'isVisible': False,\n",
    "      'visConfig': {'opacity': 0.8,\n",
    "       'thickness': 0.5,\n",
    "       'strokeColor': None,\n",
    "       'colorRange': {'name': 'Global Warming',\n",
    "        'type': 'sequential',\n",
    "        'category': 'Uber',\n",
    "        'colors': ['#5A1846',\n",
    "         '#900C3F',\n",
    "         '#C70039',\n",
    "         '#E3611C',\n",
    "         '#F1920E',\n",
    "         '#FFC300']},\n",
    "       'strokeColorRange': {'name': 'Global Warming',\n",
    "        'type': 'sequential',\n",
    "        'category': 'Uber',\n",
    "        'colors': ['#5A1846',\n",
    "         '#900C3F',\n",
    "         '#C70039',\n",
    "         '#E3611C',\n",
    "         '#F1920E',\n",
    "         '#FFC300']},\n",
    "       'radius': 10,\n",
    "       'sizeRange': [0, 10],\n",
    "       'radiusRange': [0, 50],\n",
    "       'heightRange': [0, 500],\n",
    "       'elevationScale': 5,\n",
    "       'stroked': True,\n",
    "       'filled': False,\n",
    "       'enable3d': False,\n",
    "       'wireframe': False},\n",
    "      'textLabel': [{'field': None,\n",
    "        'color': [255, 255, 255],\n",
    "        'size': 18,\n",
    "        'offset': [0, 0],\n",
    "        'anchor': 'start',\n",
    "        'alignment': 'center'}]},\n",
    "     'visualChannels': {'colorField': None,\n",
    "      'colorScale': 'quantile',\n",
    "      'sizeField': None,\n",
    "      'sizeScale': 'linear',\n",
    "      'strokeColorField': None,\n",
    "      'strokeColorScale': 'quantile',\n",
    "      'heightField': None,\n",
    "      'heightScale': 'linear',\n",
    "      'radiusField': None,\n",
    "      'radiusScale': 'linear'}}],\n",
    "   'interactionConfig': {'tooltip': {'fieldsToShow': {'data1': ['column_0',\n",
    "       'fromLong',\n",
    "       'fromLat',\n",
    "       'toLong',\n",
    "       'toLat']},\n",
    "     'enabled': True},\n",
    "    'brush': {'size': 0.5, 'enabled': False}},\n",
    "   'layerBlending': 'normal',\n",
    "   'splitMaps': []},\n",
    "  'mapState': {'bearing': -15.654822335025386,\n",
    "   'dragRotate': True,\n",
    "   'latitude': 48.65014418291175,\n",
    "   'longitude': 13.396759198585784,\n",
    "   'pitch': 48.79907030563581,\n",
    "   'zoom': 4.939065787978216,\n",
    "   'isSplit': False},\n",
    "  'mapStyle': {'styleType': 'light',\n",
    "   'topLayerGroups': {},\n",
    "   'visibleLayerGroups': {'label': True,\n",
    "    'road': True,\n",
    "    'border': False,\n",
    "    'building': True,\n",
    "    'water': True,\n",
    "    'land': True,\n",
    "    '3d building': False},\n",
    "   'mapStyles': {}}}})\n",
    "map2"
   ]
  },
  {
   "cell_type": "markdown",
   "metadata": {},
   "source": [
    "# Finalization:\n",
    "Last but not least, we will save our paired data to the *trips.csv* file and export our maps as html."
   ]
  },
  {
   "cell_type": "code",
   "execution_count": 10,
   "metadata": {
    "scrolled": true
   },
   "outputs": [
    {
     "name": "stdout",
     "output_type": "stream",
     "text": [
      "Map saved to hexbins.html!\n",
      "Map saved to arcs.html!\n"
     ]
    }
   ],
   "source": [
    "pairs.to_csv(r'data.csv')\n",
    "map1.save_to_html(file_name='hexbins.html', read_only=True)\n",
    "map2.save_to_html(file_name='arcs.html', read_only=True)"
   ]
  }
 ],
 "metadata": {
  "kernelspec": {
   "display_name": "Python 3",
   "language": "python",
   "name": "python3"
  },
  "language_info": {
   "codemirror_mode": {
    "name": "ipython",
    "version": 3
   },
   "file_extension": ".py",
   "mimetype": "text/x-python",
   "name": "python",
   "nbconvert_exporter": "python",
   "pygments_lexer": "ipython3",
   "version": "3.7.0"
  }
 },
 "nbformat": 4,
 "nbformat_minor": 2
}
